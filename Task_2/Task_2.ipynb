{
 "cells": [
  {
   "cell_type": "raw",
   "id": "58f0fb00",
   "metadata": {},
   "source": [
    "# 2nd Task\n",
    "-   [1] Plot histogram from distribution2, find the appropirate lower and upper limits\n",
    "-   [2] Try to fit distribution2 with a gaussian and a background, change the limit as needed\n",
    "-   [3] Plot the data3 using scatter plot or errorbar plot\n",
    "-   [4] Fit the data3 using second order polynomial function, show the fit with data3\n",
    "-   [5] Determine the x value where the line hits zero (through programming, not by hand)\n",
    "\n",
    "## Bonus\n",
    "\n",
    "-   [1] Plot and fit the data3 while taking error bars into account\n",
    "-   [2] Determine the x value where the line hits zero (through programming, not by hand)\n",
    "\n"
   ]
  },
  {
   "cell_type": "code",
   "execution_count": 1,
   "id": "5874c05f",
   "metadata": {},
   "outputs": [],
   "source": [
    "#Before we start, we have to import libraries of functions that we will need\n",
    "\n",
    "#access to the numpy library for vectors, arrays, and other math\n",
    "import numpy as np\n",
    "#access to the matplotlib's plotting features\n",
    "import matplotlib.pyplot as plt\n",
    "#access to scipy's statistics library \n",
    "from scipy import stats\n",
    "#Optimize library for fitting functions\n",
    "from scipy.optimize import curve_fit\n",
    "# Loading/reading the data using pandas\n",
    "import pandas as pd"
   ]
  },
  {
   "cell_type": "code",
   "execution_count": null,
   "id": "01062ce9",
   "metadata": {},
   "outputs": [],
   "source": [
    "#TO DO:\n",
    "# -   [1] Plot histogram from distribution2, find the appropirate lower and upper limits\n",
    "# -   [2] Try to fit distribution2 with a gaussian and a background, change the limit as needed\n",
    "\n",
    "\n",
    "# Load the data into a pandas DataFrame\n",
    "new_data2 = pd.read_csv('distribution2.dat', sep='\\t', names=[''])\n",
    "\n",
    "# Get the minimum, maximum values and description of the DataFrame\n",
    "print('Minimum value:', new_data2.min())\n",
    "print('Maximum value:', new_data2.max())\n",
    "print('Describe data:', new_data2.describe())\n",
    "\n",
    "# Use your intuition to get reasonable lower and upper limits of new_data, so your fit will show up nicely\n",
    "lower_edge= -0.5\n",
    "upper_edge= 2.4\n",
    "\n",
    "# Cut-out your outliers using this code\n",
    "new_data2 = new_data2[(new_data2.to_numpy() > lower_edge) & (new_data2.to_numpy() < upper_edge)]\n",
    "\n",
    "# Make your own function to return Gaussian pdf\n",
    "def gaussian(x, amp, mu, sigma):\n",
    "    return \n",
    "\n",
    "# Define the polynomial background function\n",
    "def poly1(x, a, b):\n",
    "    return \n",
    "# Define the combined function as the sum of the Gaussian and polynomial functions\n",
    "def fit_func(x, amp, mu, sigma, a, b):\n",
    "    return gaussian(x, amp, mu, sigma) + poly1(x, a, b)\n",
    "\n",
    "def dist2_fit():\n",
    "    # create a figure and plot the data you generated\n",
    "    fig, ax=plt.subplots(figsize=(7,5))\n",
    "    plt.hist(.....,range=(lower_edge, upper_edge), alpha = 0.2)\n",
    "    # Extract the values and bin edges and calculate bin centers\n",
    "    y,bin_edges= np.histogram(new_data2, bins=200, density=True,range=(lower_edge, upper_edge))\n",
    "    bin_center=(bin_edges[1:]+bin_edges[:-1])/2\n",
    "    \n",
    "#     # make your guess for the parameters \n",
    "#     guess = \n",
    "#     # Use curve_fit to extract fit parameters for the fit function from a set of x and y data with an initial guess\n",
    "#     popt, pcov = curve_fit\n",
    "\n",
    "#     # Make a set of xs data to plot the distribution\n",
    "#     x=np.linspace(bin_edges[0],bin_edges[-1], 200)\n",
    "\n",
    "#     # Get the y values in the x range\n",
    "#     total = fit_func(x, *popt)\n",
    "#     signal = gaussian(x, *popt[:3])\n",
    "#     background = poly1(x, *popt[3:])\n",
    "#     # Plot the line and set the legend and show the plots\n",
    "   \n",
    "#     # Add Some titles for the plot, axes, legend, grid and show \n",
    "\n",
    "    \n",
    "#call the function\n",
    "dist2_fit()"
   ]
  },
  {
   "cell_type": "code",
   "execution_count": null,
   "id": "3db14023",
   "metadata": {},
   "outputs": [],
   "source": [
    "# Pandas is a library to load data into python easily\n",
    "data_frame = pd.read_csv(\"data3.dat\", names=[\"x\", \"y\", \"yerr\"])\n",
    "data_frame.head()"
   ]
  },
  {
   "cell_type": "code",
   "execution_count": null,
   "id": "1d55e2c2",
   "metadata": {},
   "outputs": [],
   "source": [
    "data_frame.describe()"
   ]
  },
  {
   "cell_type": "code",
   "execution_count": null,
   "id": "2329814e",
   "metadata": {},
   "outputs": [],
   "source": [
    "print(data_frame)"
   ]
  },
  {
   "cell_type": "code",
   "execution_count": null,
   "id": "de5fe1ce",
   "metadata": {},
   "outputs": [],
   "source": [
    "# To access a single column in the dataframe you can access it by it's label\n",
    "print(data_frame['y'])\n",
    "\n",
    "# For simple labels (no spaces or special characters) you can access it without the brackets \n",
    "print(data_frame.y)\n",
    "\n",
    "#It returns a vector, so get a single element you can use this notation\n",
    "print(data_frame.y[0])"
   ]
  },
  {
   "cell_type": "code",
   "execution_count": null,
   "id": "17f54742",
   "metadata": {},
   "outputs": [],
   "source": [
    "#TO DO:\n",
    "# -   [3] Plot the data3 using scatter plot or errorbar plot\n",
    "# -   [4] Fit the data3 using second order polynomial function, show the fit with data3\n",
    "# -   [5] Determine the x value where the line hits zero (through programming, not by hand)\n",
    "\n",
    "\n",
    "def poly2(x, a, b, c):\n",
    "    return a*x**2 + b*x+c\n",
    "# matplotlib link for plotting with errorbars\n",
    "# https://matplotlib.org/stable/api/_as_gen/matplotlib.pyplot.errorbar.html\n",
    "def plot_data3():\n",
    "    plt.scatter(data_frame.x,data_frame.y, marker='.', c='b', alpha =0.4, label='data')\n",
    "#     plt.errorbar(data_frame.x, data_frame.y, yerr=0, fmt='.', label='data')\n",
    "\n",
    "    #your code starts from here...\n",
    "    # since data already has y values corresponding to x values, you can start from your guess and curve fit,\n",
    "    # no need to get bin centers and hist from np.histogram technique\n",
    "\n",
    "\n",
    "plot_data3()\n"
   ]
  },
  {
   "cell_type": "code",
   "execution_count": null,
   "id": "e4a8b8b4",
   "metadata": {},
   "outputs": [],
   "source": [
    "# TO DO : \n",
    "## Bonus\n",
    "# -   [1] Plot and fit the data3 while taking error bars into account\n",
    "# -   [2] Determine the x value where the line hits zero (through programming, not by hand)\n",
    "\n",
    "def poly2(x, a, b, c):\n",
    "    return a*x**2 + b*x+c\n",
    "\n",
    "def plot_with_err():\n",
    "    plt.errorbar(data_frame.x, data_frame.y, yerr=data_frame.yerr, fmt='.', label='data')\n",
    "    \n",
    "    #your code starts from here....\n",
    "    \n",
    "    \n",
    "# Hints: use sigma=data_frame.yerr in the curve_fit function to take error bars into account\n",
    "\n",
    "\n",
    "\n",
    "\n",
    "#call the function\n",
    "plot_with_err()\n"
   ]
  },
  {
   "cell_type": "code",
   "execution_count": null,
   "id": "2be2e7e3",
   "metadata": {},
   "outputs": [],
   "source": []
  }
 ],
 "metadata": {
  "kernelspec": {
   "display_name": "Python 3 (ipykernel)",
   "language": "python",
   "name": "python3"
  },
  "language_info": {
   "codemirror_mode": {
    "name": "ipython",
    "version": 3
   },
   "file_extension": ".py",
   "mimetype": "text/x-python",
   "name": "python",
   "nbconvert_exporter": "python",
   "pygments_lexer": "ipython3",
   "version": "3.12.6"
  }
 },
 "nbformat": 4,
 "nbformat_minor": 5
}
