{
 "cells": [
  {
   "cell_type": "raw",
   "id": "08a0c8af",
   "metadata": {},
   "source": [
    "# Task 3\n",
    "\n",
    "In this lab we will use data collected from the Sr90 source used in the previous labs. The number of β− decay reactions, x, occurring from our Sr90 sample within a given time interval ∆t, was collected for different lengths of time T.\n",
    "(note : strontium-90 (28.79 years) ->yttrium-90 (64 hours)-> zirconium-90 (stable: 2.0×1019 years))\n",
    "\n",
    "If we look at the Poisson distribution:\n",
    "\n",
    "P(x,r∆t)= e^(-r∆t)*(r∆t)^x / x!  = e^(-μ) μ^x / x!\n",
    "\n",
    "We can find the rate, r, if we fit plot out μ values found from each histogram versus the time interval ∆t.\n",
    "\n",
    "-   [1] [Download Sr90 Data]\n",
    "-   [2] Plot data from all the files into histograms, label them.\n",
    "-   [3] Fit Poisson function to each of the histograms.\n",
    "-   [4] Use for loop to plot and fit all the data at once.\n",
    "-   [5] Extract the value μ for all the histograms and make a list for ∆t and T based on the data sets given.\n",
    "-   [6] Plot μ versus ∆t from the different runs to determine whether the rate is constant.\n",
    "\n",
    "[Fitting with Optimize in Python](https://docs.scipy.org/doc/scipy/reference/generated/scipy.optimize.curve_fit.html)\n"
   ]
  },
  {
   "cell_type": "code",
   "execution_count": null,
   "id": "ac63f974",
   "metadata": {},
   "outputs": [],
   "source": [
    "#import required libraries\n",
    "import numpy as np\n",
    "import matplotlib.pyplot as plt\n",
    "import pandas as pd\n",
    "from scipy.special import factorial\n",
    "from scipy.optimize import curve_fit\n",
    "import warnings\n",
    "warnings.filterwarnings('ignore')\n"
   ]
  },
  {
   "cell_type": "code",
   "execution_count": null,
   "id": "b584dcb7",
   "metadata": {},
   "outputs": [],
   "source": [
    "# # The files are labeled with respect to the measurement window and experiment length\n",
    "# # In that order\n",
    "# # 0.5ms_10s.txt measured the number of decays in 0.5ms windows for a total of 10 seconds\n",
    "dt = [0.5, 0.5, 0.5, 5, 5, 5, 50, 500]\n",
    "T = [10, 100, 1000, 10, 100, 100, 10000, 50000]\n",
    "# data1 = pd.read_csv(\"0.5ms_10s.txt\", names=[\"x\"])\n",
    "# data2 = pd.read_csv(\"0.5ms_100s.txt\", names=[\"x\"])\n",
    "# data3 = pd.read_csv(\"0.5ms_1000s.txt\", names=[\"x\"])\n",
    "# data4 = pd.read_csv(\"5ms_10s.txt\", names=[\"x\"])\n",
    "# data5 = pd.read_csv(\"5ms_100s.txt\", names=[\"x\"])\n",
    "# data6 = pd.read_csv(\"5ms_100s.txt\", names=[\"x\"])\n",
    "# data7 = pd.read_csv(\"50ms_10000s.txt\", names=[\"x\"])\n",
    "# data8 = pd.read_csv(\"500ms_50000s.txt\", names=[\"x\"])\n",
    "\n",
    "\n",
    "filenames = [\"0.5ms_10s.txt\", \"0.5ms_100s.txt\", \"0.5ms_1000s.txt\",\n",
    "             \"5ms_10s.txt\", \"5ms_100s.txt\", \"5ms_100s.txt\",\n",
    "             \"50ms_10000s.txt\", \"500ms_50000s.txt\"]\n",
    "\n",
    "dataframes = [pd.read_csv(filename, names=[\"x\"]) for filename in filenames]\n",
    "\n",
    "# data1.head()"
   ]
  },
  {
   "cell_type": "code",
   "execution_count": null,
   "id": "a6e07346",
   "metadata": {},
   "outputs": [],
   "source": [
    "# data1.describe()\n",
    "dataframes[0].describe()"
   ]
  },
  {
   "cell_type": "code",
   "execution_count": null,
   "id": "8ac06dbd",
   "metadata": {},
   "outputs": [],
   "source": [
    "# TODO:\n",
    "# make a plot for each data set\n",
    "# plt.hist(...)"
   ]
  },
  {
   "cell_type": "code",
   "execution_count": null,
   "id": "103d5d74",
   "metadata": {
    "scrolled": true
   },
   "outputs": [],
   "source": [
    "# TODO:\n",
    "# Fit the data with a poison function or gaussian if not possible \n",
    "# Extract mean (mu)\n",
    "# show the plot\n",
    "\n",
    "# define your own poisson distribution function\n",
    "def poisson(k, a, lamb):\n",
    "    return a*(lamb**k/factorial(k)) * np.exp(-lamb)\n",
    "# lamb is the mean or expected value of the Poisson distribution\n",
    "\n",
    "# now define your own normal distribution function\n",
    "def gaus(x, a, mean, sigma):\n",
    "    return a*np.exp(-0.5*((x-mean)/sigma)**2)\n",
    "\n",
    "# Create a list of the data frames\n",
    "dataframes = [data1, data2, data3, data4, data5, data6, data7, data8]\n",
    "# lets make a empty list to store our mean values\n",
    "mu = []\n",
    "# Loop through each data frame and perform the plotting and curve fitting operations\n",
    "# for i, df in enumerate(dataframes):\n",
    "for i in range(len(dataframes)):\n",
    "    df = dataframes[i]    \n",
    "    # Get the data from the data frame\n",
    "    data = df['x'].values\n",
    "    \n",
    "    # Define the histogram bins and calculate the bin heights\n",
    "    bins_no = np.arange(min(data)-0.5, max(data)+1.5, 1.0)\n",
    "    bin_heights, bin_edges = np.histogram(data, bins=bins_no, density=False)\n",
    "    # Get the bin centers\n",
    "    bin_centers = (bin_edges[:-1] + bin_edges[1:]) / 2\n",
    "\n",
    "    if i < 7:\n",
    "        # Fit the Poisson distribution to the data and make the plot with fit, keep the mean values in list mu[]\n",
    "        # your code goes here .....\n",
    "        # hint, to store mean values in mu[] use : mu.append(popt[1])\n",
    "\n",
    "\n",
    "#     else:\n",
    "#         # Try to fit with Poisson function\n",
    "#         # If not fitted, try to fit the Gaussian function and keep the mean values in list mu[]\n",
    "#         # your code goes here .....\n",
    "#         # hint, to store mean values in mu[] use : mu.append(popt[1])\n",
    "#     print(\"Mu, or average number of decays in\",dt[i],\"ms: \",mu[i]) \n",
    "    plt.show()\n"
   ]
  },
  {
   "cell_type": "code",
   "execution_count": null,
   "id": "8e8d90d4",
   "metadata": {},
   "outputs": [],
   "source": [
    "# TO DO \n",
    "# Extract the value μ for all the histograms and make lists for ∆t and T based on the data sets given.\n",
    "# Plot μ versus ∆t from the different runs\n",
    "# Fit with linear function (1-dimensional polynomial) and calculate the detected event rate\n",
    "\n",
    "#Here we define a linear function to fit our mu vs dt plot \n",
    "def linear(x,....):\n",
    "    return \n",
    "\n",
    "# Now lets plot the mean values using scatter plot\n",
    "# plt.scatter(......??)\n",
    "#lets fit it to get the rate\n",
    "param, pcov = curve_fit(linear, ...])\n",
    "print(\"Activity:\",param[0],\"decays per millisecond\")\n",
    "plt.title('??')\n",
    "plt.xlabel(\"?\")\n",
    "plt.ylabel(\"?\")\n",
    "plt.grid()\n",
    "plt.show()\n"
   ]
  },
  {
   "cell_type": "code",
   "execution_count": null,
   "id": "749a0b19-9a03-4dac-a207-2bc1130fb139",
   "metadata": {},
   "outputs": [],
   "source": []
  }
 ],
 "metadata": {
  "kernelspec": {
   "display_name": "Python 3 (ipykernel)",
   "language": "python",
   "name": "python3"
  },
  "language_info": {
   "codemirror_mode": {
    "name": "ipython",
    "version": 3
   },
   "file_extension": ".py",
   "mimetype": "text/x-python",
   "name": "python",
   "nbconvert_exporter": "python",
   "pygments_lexer": "ipython3",
   "version": "3.13.2"
  }
 },
 "nbformat": 4,
 "nbformat_minor": 5
}
